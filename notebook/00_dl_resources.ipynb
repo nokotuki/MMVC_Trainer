{
  "nbformat": 4,
  "nbformat_minor": 0,
  "metadata": {
    "colab": {
      "provenance": [],
      "collapsed_sections": []
    },
    "kernelspec": {
      "name": "python3",
      "display_name": "Python 3"
    },
    "language_info": {
      "name": "python"
    },
    "gpuClass": "standard"
  },
  "cells": [
    {
      "cell_type": "markdown",
      "source": [
        "# MVCの学習に必要なデータをダウンロードする\n",
        "\n",
        "ver.2022/09/25\n",
        "\n",
        "MMVC_Trainerの事前学習済みモデル、公式配布音声を、Google Driveに保存します。"
      ],
      "metadata": {
        "id": "zO4ySkfLgBIp"
      }
    },
    {
      "cell_type": "markdown",
      "source": [
        "​"
      ],
      "metadata": {
        "id": "bUwA9PcbCKg0"
      }
    },
    {
      "cell_type": "code",
      "execution_count": null,
      "metadata": {
        "id": "hdfce8bPkpMB",
        "cellView": "form"
      },
      "outputs": [],
      "source": [
        "#@title ## 1 Google Driveをマウント\n",
        "#@markdown **このノートブックで、Google Driveを使用するための設定です。**\n",
        "\n",
        "#@markdown 「警告: このノートブックは Google が作成したものではありません。」といったポップアップが表示された場合、内容を確認して「このまま実行」を選択してください。このノートブックでは、外部へのデータ送信は一切行われません。\n",
        "\n",
        "#@markdown 　「このノートブックに Google ドライブのファイルへのアクセスを許可しますか？」といったポップアップが表示されるので、「Google ドライブに接続」を押下し、google アカウントを選択して、「許可」を選択してください。\n",
        "\n",
        "#@markdown 成功すれば、下記メッセージが出ます。 { display-mode: \"form\" }\n",
        "\n",
        "#@markdown ``` \n",
        "#@markdown Mounted at /content/drive/\n",
        "#@markdown ```\n",
        "\n",
        "from google.colab import drive\n",
        "drive.mount('/content/drive')"
      ]
    },
    {
      "cell_type": "markdown",
      "source": [
        "​"
      ],
      "metadata": {
        "id": "GAGK1P8eiNm5"
      }
    },
    {
      "cell_type": "code",
      "source": [
        "#@title 2 MMVC_Trainerディレクトリに移動\n",
        "#@markdown ​マウントしたGoogle DriveのMMVC_Trainerディレクトリに移動します。\n",
        "\n",
        "#@markdown Google DriveでMMVC_Trainerの場所を確認し、以下でパスを指定してください。\n",
        "\n",
        "#@markdown 正しいパスが指定されていれば、以下のようなメッセージが表示されます。\n",
        "\n",
        "#@markdown ```\n",
        "#@markdown attentions.py\n",
        "#@markdown commons.py\n",
        "#@markdown ...(略)\n",
        "#@markdown ```\n",
        "#@markdown\n",
        "\n",
        "\n",
        "#@markdown ​\n",
        "#@markdown ### Settings\n",
        "directory = \"/content/drive/MyDrive/MMVC_Trainer\" #@param {type:\"string\"}\n",
        "\n",
        "%cd $directory\n",
        "!ls -1"
      ],
      "metadata": {
        "id": "4dSgFEkpvEhj",
        "cellView": "form"
      },
      "execution_count": null,
      "outputs": []
    },
    {
      "cell_type": "markdown",
      "source": [
        "​"
      ],
      "metadata": {
        "id": "vvSUTSvCEMUp"
      }
    },
    {
      "cell_type": "code",
      "source": [
        "#@title ## 3 fine_modelのダウンロード\n",
        "#@markdown 事前学習済みのモデルをダウンロードします。\n",
        "\n",
        "#@markdown 以下のようなメッセージが表示されれば、ダウンロードが正常に完了しています。\n",
        "#@markdown ```\n",
        "#@markdown ファインモデルのダウンロードに成功しました!\n",
        "#@markdown ```\n",
        "\n",
        "import gdown\n",
        "%cd {directory}/fine_model/\n",
        "try:\n",
        "  gdown.download('https://drive.google.com/uc?id=1MRmB-9EL2-xhxIIraVx20qWqyX-8ZMPw', 'G_180000.pth', quiet=False)\n",
        "  gdown.download('https://drive.google.com/uc?id=1oPbMM7cGz-z0fLgj7DW_wPGRCwvgD2jZ', 'D_180000.pth', quiet=False)\n",
        "  print(\"\\n\")\n",
        "  print(\"ファインモデルのダウンロードに成功しました!\")\n",
        "except Exception as e:\n",
        "  print(e)"
      ],
      "metadata": {
        "cellView": "form",
        "id": "xWRi8E8m4nFV"
      },
      "execution_count": null,
      "outputs": []
    },
    {
      "cell_type": "markdown",
      "source": [
        "​"
      ],
      "metadata": {
        "id": "NJpMOTOq8TZJ"
      }
    },
    {
      "cell_type": "code",
      "source": [
        "#@title ## 4 MMVC公式配布音声のダウンロード\n",
        "#@markdown ###**MMVC公式配布音声をご利用になる場合はそれぞれの音声ライブラリ提供者様の[利用規約](https://github.com/isletennos/MMVC_Trainer/wiki#mmvc%E5%85%AC%E5%BC%8F%E9%85%8D%E5%B8%83%E9%9F%B3%E5%A3%B0%E3%83%87%E3%83%BC%E3%82%BF%E3%81%AE%E5%88%A9%E7%94%A8%E8%A6%8F%E7%B4%84)に同意する必要があります。**\n",
        "#@markdown ※本ソフトウェアでは各企業様・団体様に特別に許可を頂き、音声データを本ソフトウェア用に改変、再配布を行っております。\n",
        "\n",
        "#@markdown <br>\n",
        "\n",
        "#@markdown ダウンロードしたい音声にチェックを入れてセルを実行してください。\n",
        "\n",
        "#@markdown 複数話者の学習用に複数の音声をダウンロードしたい場合は、学習したい音声すべてにチェックを入れてください。\n",
        "\n",
        "#@markdown 公式配布音声を使用しない場合は、このセルを実行する必要はありません。\n",
        "\n",
        "#@markdown 以下のようなメッセージが表示されれば、ダウンロードが正常に完了しています。\n",
        "#@markdown ```\n",
        "#@markdown データセットのダウンロードに成功しました!\n",
        "#@markdown ```\n",
        "#@markdown <br>\n",
        "\n",
        "import zipfile\n",
        "import os\n",
        "import shutil\n",
        "import tempfile\n",
        "import gdown\n",
        "\n",
        "ずんだもん = True #@param {type:\"boolean\"}\n",
        "九州そら = True #@param {type:\"boolean\"}\n",
        "四国めたん = True #@param {type:\"boolean\"}\n",
        "春日部つむぎ = False #@param {type:\"boolean\"}\n",
        "\n",
        "url_dict = {}\n",
        "if ずんだもん == True:\n",
        "  url_dict[\"zundamon\"] = \"https://drive.google.com/u/0/uc?id=1h8Ajyvoig7Hl3LSSt2vYX0sUHX3JDF3R\"\n",
        "if 九州そら == True:\n",
        "  url_dict[\"sora\"] = \"https://drive.google.com/u/0/uc?id=1MXfMRG_sjbsaLihm7wEASG2PwuCponZF\"\n",
        "if 四国めたん == True:\n",
        "  url_dict[\"methane\"] = \"https://drive.google.com/u/0/uc?id=1iCrpzhqXm-0YdktOPM8M1pMtgQIDF3r4\"\n",
        "if 春日部つむぎ == True:\n",
        "  url_dict[\"tsumugi\"] = \"https://drive.google.com/u/0/uc?id=14zE0F_5ZCQWXf6m6SUPF5Y3gpL6yb7zk\"\n",
        "\n",
        "loop_count = 0\n",
        "try:\n",
        "  for target in url_dict:\n",
        "    loop_count += 1\n",
        "    save_dir = os.path.join(directory, \"MMVC_Trainer\", \"dataset\", \"textful\",str(loop_count).zfill(2) + \"_target\")\n",
        "    with tempfile.TemporaryDirectory() as dir:\n",
        "      os.chdir(dir)\n",
        "      gdown.download(url_dict[target], target + \".zip\", quiet=False)\n",
        "      zip_dir = os.path.join(dir, target + \".zip\")\n",
        "      with zipfile.ZipFile(zip_dir) as zip:\n",
        "        file_info = zip.infolist()\n",
        "        file_name = file_info[0].filename\n",
        "        zip.extractall(dir)\n",
        "      if os.path.exists(save_dir):\n",
        "        shutil.rmtree(save_dir)\n",
        "      os.makedirs(save_dir)\n",
        "      shutil.move(os.path.join(dir, file_name, \"wav\"), save_dir)\n",
        "      shutil.move(os.path.join(dir, file_name, \"text\"), save_dir)\n",
        "      print(\"\\n\")\n",
        "  if not loop_count == 0:\n",
        "    print(\"データセットのダウンロードに成功しました!\")\n",
        "except Exception as e:\n",
        "  print(e)"
      ],
      "metadata": {
        "cellView": "form",
        "id": "VuJV_3yeGX4x"
      },
      "execution_count": null,
      "outputs": []
    },
    {
      "cell_type": "markdown",
      "source": [
        "​"
      ],
      "metadata": {
        "id": "S6UpJ5P2Gn9a"
      }
    },
    {
      "cell_type": "markdown",
      "source": [
        "​"
      ],
      "metadata": {
        "id": "Bke9F_cPGXCb"
      }
    }
  ]
}