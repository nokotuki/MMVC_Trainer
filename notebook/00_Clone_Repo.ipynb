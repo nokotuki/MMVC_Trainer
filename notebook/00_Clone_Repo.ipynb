{
  "nbformat": 4,
  "nbformat_minor": 0,
  "metadata": {
    "colab": {
      "private_outputs": true,
      "provenance": [],
      "authorship_tag": "ABX9TyN4lPHuc430avCvXzZZtXCt"
    },
    "kernelspec": {
      "name": "python3",
      "display_name": "Python 3"
    },
    "language_info": {
      "name": "python"
    },
    "gpuClass": "standard"
  },
  "cells": [
    {
      "cell_type": "markdown",
      "source": [
        "# MMVCのリポジトリをGoogle Driveに保存する\n",
        "\n",
        "ver.2022/09/25\n",
        "\n",
        "MMVC_Trainerのリポジトリを、Google Driveに保存します。"
      ],
      "metadata": {
        "id": "zO4ySkfLgBIp"
      }
    },
    {
      "cell_type": "markdown",
      "source": [
        "​"
      ],
      "metadata": {
        "id": "bUwA9PcbCKg0"
      }
    },
    {
      "cell_type": "markdown",
      "source": [
        "## MMVCとは\n",
        "MMVCはAIを使ったリアルタイムボイスチェンジャー「MMVC(RealTime-Many to Many Voice Conversion)」です。\n",
        "\n",
        "MMVCは[**MMVC_Trainer**](https://github.com/isletennos/MMVC_Trainer)と [**MMVC_Client**](https://github.com/isletennos/MMVC_Client)で構成されており、基本的にはGoogle Colab上で音声を学習し、その学習済みデータを使って自分のPC上でリアルタイムにボイスチェンジを行うことができるアプリです。\n",
        "\n",
        "Google Colabを用いることで、個人の環境に依存せず、かつ簡単に機械学習の学習フェーズを実行可能です。\n",
        "\n",
        "<br>\n",
        "\n",
        "[**MMVC利用規約**](https://github.com/isletennos/MMVC_Trainer/wiki#mmvc%E3%81%AE%E5%88%A9%E7%94%A8%E8%A6%8F%E7%B4%84)\n",
        "\n",
        "[**MMVCコミュニティ**](https://discord.gg/PgspuDSTEc)\n",
        "\n",
        "[**MMVC wiki**](https://github.com/isletennos/MMVC_Trainer/wiki)\n"
      ],
      "metadata": {
        "id": "WRWkvW9fCRT5"
      }
    },
    {
      "cell_type": "markdown",
      "source": [
        "​"
      ],
      "metadata": {
        "id": "T5hplryJhQGB"
      }
    },
    {
      "cell_type": "code",
      "execution_count": null,
      "metadata": {
        "id": "hdfce8bPkpMB",
        "cellView": "form"
      },
      "outputs": [],
      "source": [
        "#@title ## 1 Google Driveをマウント\n",
        "#@markdown **このノートブックで、Google Driveを使用するための設定です。**\n",
        "\n",
        "#@markdown 「警告: このノートブックは Google が作成したものではありません。」といったポップアップが表示された場合、内容を確認して「このまま実行」を選択してください。このノートブックでは、外部へのデータ送信は一切行われません。\n",
        "\n",
        "#@markdown 　「このノートブックに Google ドライブのファイルへのアクセスを許可しますか？」といったポップアップが表示されるので、「Google ドライブに接続」を押下し、google アカウントを選択して、「許可」を選択してください。\n",
        "\n",
        "#@markdown 成功すれば、下記メッセージが出ます。 { display-mode: \"form\" }\n",
        "\n",
        "#@markdown ``` \n",
        "#@markdown Mounted at /content/drive/\n",
        "#@markdown ```\n",
        "\n",
        "from google.colab import drive\n",
        "drive.mount('/content/drive')"
      ]
    },
    {
      "cell_type": "markdown",
      "source": [
        "​"
      ],
      "metadata": {
        "id": "GAGK1P8eiNm5"
      }
    },
    {
      "cell_type": "code",
      "execution_count": null,
      "metadata": {
        "id": "7yZhO-jgI9k3",
        "cellView": "form"
      },
      "outputs": [],
      "source": [
        "#@title ## 2 MMVC_Trainerのクローン\n",
        "#@markdown 以下で指定したディレクトリ上に、MMVC_Trainerというフォルダが作成されます。\n",
        "\n",
        "#@markdown 実行前に、画面右上にあるアカウントのアイコンをクリックして、アカウントを確認してください。\n",
        "\n",
        "#@markdown 成功すると、最後に以下のようなメッセージが表示されます。\n",
        "#@markdown ```\n",
        "#@markdown Checking out files: 100% (902/902), done.\n",
        "#@markdown ```\n",
        "\n",
        "#@markdown ​\n",
        "#@markdown ### Settings\n",
        "directory = \"/content/drive/MyDrive\" #@param {type:\"string\"}\n",
        "\n",
        "%cd $directory\n",
        "!git clone --depth=1 https://github.com/isletennos/MMVC_Trainer/"
      ]
    },
    {
      "cell_type": "markdown",
      "source": [
        "​"
      ],
      "metadata": {
        "id": "V5xVjAYzkAyW"
      }
    },
    {
      "cell_type": "code",
      "source": [
        "#@title ## 3 確認\n",
        "#@markdown 以下のようなメッセージが表示されれば、保存が正常に完了しています。\n",
        "#@markdown ```\n",
        "#@markdown Directory: MMVC_Trainer\n",
        "#@markdown attentions.py\n",
        "#@markdown commons.py\n",
        "#@markdown ...(略)\n",
        "#@markdown ```\n",
        "\n",
        "print(\"Directory: MMVC_Trainer\")\n",
        "!ls -1 {directory}/MMVC_Trainer"
      ],
      "metadata": {
        "id": "8iUwQYbwkED-",
        "cellView": "form"
      },
      "execution_count": null,
      "outputs": []
    },
    {
      "cell_type": "markdown",
      "source": [
        "​"
      ],
      "metadata": {
        "id": "Bke9F_cPGXCb"
      }
    }
  ]
}